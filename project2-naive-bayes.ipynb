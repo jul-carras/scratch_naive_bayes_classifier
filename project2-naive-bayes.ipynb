{
 "cells": [
  {
   "cell_type": "markdown",
   "metadata": {},
   "source": [
    "# CIS 678 - Machine Learning\n",
    "\n",
    "## Programming Project 2 - Naive Bayes Classifier\n",
    "\n",
    "### Julian Carrasquillo, 1/22/20\n"
   ]
  },
  {
   "cell_type": "markdown",
   "metadata": {},
   "source": [
    "### Specification\n",
    "\n",
    "The idea is to write a program that, when given a collection of training data consisting of labeled (`Spam` | `Ham`) text messages, “learns” how to classify (or tag) new messages correctly using a Naïve Bayes classifier. Said differently, write a spam filter."
   ]
  },
  {
   "cell_type": "markdown",
   "metadata": {},
   "source": [
    "### Background\n",
    "\n",
    "The Naïve Bayes algorithm uses probabilities to perform classification. The probabilities are estimated based on training data for which the value of the classification is known (i.e. it is a form of Supervised Learning). The algorithm is called “naïve” because it makes the simplifying assumption that attribute values are completely independent, given the classification."
   ]
  },
  {
   "cell_type": "markdown",
   "metadata": {},
   "source": [
    "### Data set\n",
    "\n",
    "The data consists of a collection of 5574 labeled SMS text messages in a zipped format. Format consists of 2 columns: classification and full unprocessed text message. \n",
    "  \n",
    "Normally, we can use `pandas` to read in zip files directly, but this particular folder contains multiple files. We will use `zipfile` to handle."
   ]
  },
  {
   "cell_type": "code",
   "execution_count": 2,
   "metadata": {},
   "outputs": [
    {
     "data": {
      "text/html": [
       "<div>\n",
       "<style scoped>\n",
       "    .dataframe tbody tr th:only-of-type {\n",
       "        vertical-align: middle;\n",
       "    }\n",
       "\n",
       "    .dataframe tbody tr th {\n",
       "        vertical-align: top;\n",
       "    }\n",
       "\n",
       "    .dataframe thead th {\n",
       "        text-align: right;\n",
       "    }\n",
       "</style>\n",
       "<table border=\"1\" class=\"dataframe\">\n",
       "  <thead>\n",
       "    <tr style=\"text-align: right;\">\n",
       "      <th></th>\n",
       "      <th>flag</th>\n",
       "      <th>msg</th>\n",
       "    </tr>\n",
       "  </thead>\n",
       "  <tbody>\n",
       "    <tr>\n",
       "      <td>0</td>\n",
       "      <td>ham</td>\n",
       "      <td>Go until jurong point, crazy.. Available only ...</td>\n",
       "    </tr>\n",
       "    <tr>\n",
       "      <td>1</td>\n",
       "      <td>ham</td>\n",
       "      <td>Ok lar... Joking wif u oni...</td>\n",
       "    </tr>\n",
       "    <tr>\n",
       "      <td>2</td>\n",
       "      <td>spam</td>\n",
       "      <td>Free entry in 2 a wkly comp to win FA Cup fina...</td>\n",
       "    </tr>\n",
       "    <tr>\n",
       "      <td>3</td>\n",
       "      <td>ham</td>\n",
       "      <td>U dun say so early hor... U c already then say...</td>\n",
       "    </tr>\n",
       "    <tr>\n",
       "      <td>4</td>\n",
       "      <td>ham</td>\n",
       "      <td>Nah I don't think he goes to usf, he lives aro...</td>\n",
       "    </tr>\n",
       "    <tr>\n",
       "      <td>...</td>\n",
       "      <td>...</td>\n",
       "      <td>...</td>\n",
       "    </tr>\n",
       "    <tr>\n",
       "      <td>5567</td>\n",
       "      <td>spam</td>\n",
       "      <td>This is the 2nd time we have tried 2 contact u...</td>\n",
       "    </tr>\n",
       "    <tr>\n",
       "      <td>5568</td>\n",
       "      <td>ham</td>\n",
       "      <td>Will ü b going to esplanade fr home?</td>\n",
       "    </tr>\n",
       "    <tr>\n",
       "      <td>5569</td>\n",
       "      <td>ham</td>\n",
       "      <td>Pity, * was in mood for that. So...any other s...</td>\n",
       "    </tr>\n",
       "    <tr>\n",
       "      <td>5570</td>\n",
       "      <td>ham</td>\n",
       "      <td>The guy did some bitching but I acted like i'd...</td>\n",
       "    </tr>\n",
       "    <tr>\n",
       "      <td>5571</td>\n",
       "      <td>ham</td>\n",
       "      <td>Rofl. Its true to its name</td>\n",
       "    </tr>\n",
       "  </tbody>\n",
       "</table>\n",
       "<p>5572 rows × 2 columns</p>\n",
       "</div>"
      ],
      "text/plain": [
       "      flag                                                msg\n",
       "0      ham  Go until jurong point, crazy.. Available only ...\n",
       "1      ham                      Ok lar... Joking wif u oni...\n",
       "2     spam  Free entry in 2 a wkly comp to win FA Cup fina...\n",
       "3      ham  U dun say so early hor... U c already then say...\n",
       "4      ham  Nah I don't think he goes to usf, he lives aro...\n",
       "...    ...                                                ...\n",
       "5567  spam  This is the 2nd time we have tried 2 contact u...\n",
       "5568   ham               Will ü b going to esplanade fr home?\n",
       "5569   ham  Pity, * was in mood for that. So...any other s...\n",
       "5570   ham  The guy did some bitching but I acted like i'd...\n",
       "5571   ham                         Rofl. Its true to its name\n",
       "\n",
       "[5572 rows x 2 columns]"
      ]
     },
     "execution_count": 2,
     "metadata": {},
     "output_type": "execute_result"
    }
   ],
   "source": [
    "from zipfile import ZipFile\n",
    "import pandas as pd\n",
    "\n",
    "with ZipFile('data/smsspamcollection.zip', 'r') as zip:\n",
    "    zip.extractall(path = 'data/') \n",
    "    \n",
    "sms = pd.read_table('data/SMSSpamCollection', names = ['flag', 'msg'])\n",
    "\n",
    "sms"
   ]
  },
  {
   "cell_type": "markdown",
   "metadata": {},
   "source": [
    "We can explore the dimensions of our data set, specifically around the counts of our two classifications."
   ]
  },
  {
   "cell_type": "code",
   "execution_count": 3,
   "metadata": {},
   "outputs": [
    {
     "data": {
      "text/html": [
       "<div>\n",
       "<style scoped>\n",
       "    .dataframe tbody tr th:only-of-type {\n",
       "        vertical-align: middle;\n",
       "    }\n",
       "\n",
       "    .dataframe tbody tr th {\n",
       "        vertical-align: top;\n",
       "    }\n",
       "\n",
       "    .dataframe thead th {\n",
       "        text-align: right;\n",
       "    }\n",
       "</style>\n",
       "<table border=\"1\" class=\"dataframe\">\n",
       "  <thead>\n",
       "    <tr style=\"text-align: right;\">\n",
       "      <th></th>\n",
       "      <th>msg</th>\n",
       "    </tr>\n",
       "    <tr>\n",
       "      <th>flag</th>\n",
       "      <th></th>\n",
       "    </tr>\n",
       "  </thead>\n",
       "  <tbody>\n",
       "    <tr>\n",
       "      <td>ham</td>\n",
       "      <td>4825</td>\n",
       "    </tr>\n",
       "    <tr>\n",
       "      <td>spam</td>\n",
       "      <td>747</td>\n",
       "    </tr>\n",
       "  </tbody>\n",
       "</table>\n",
       "</div>"
      ],
      "text/plain": [
       "       msg\n",
       "flag      \n",
       "ham   4825\n",
       "spam   747"
      ]
     },
     "execution_count": 3,
     "metadata": {},
     "output_type": "execute_result"
    }
   ],
   "source": [
    "sms.groupby('flag').count()"
   ]
  },
  {
   "cell_type": "markdown",
   "metadata": {},
   "source": [
    "Most messages in our inboxes are **not** spam. This set represents the phenomenon that most of the time, the messages we receive are legitimate. It's also good to point that we have clean labels - there are no missing or mispelled indicators.\n",
    "  \n",
    "According to the `readme` file included with the data set, the text messages come from a few different sources. We should verify that our set consists of distinct messages."
   ]
  },
  {
   "cell_type": "code",
   "execution_count": 4,
   "metadata": {},
   "outputs": [
    {
     "data": {
      "text/plain": [
       "<bound method Series.unique of 0       Go until jurong point, crazy.. Available only ...\n",
       "1                           Ok lar... Joking wif u oni...\n",
       "2       Free entry in 2 a wkly comp to win FA Cup fina...\n",
       "3       U dun say so early hor... U c already then say...\n",
       "4       Nah I don't think he goes to usf, he lives aro...\n",
       "                              ...                        \n",
       "5567    This is the 2nd time we have tried 2 contact u...\n",
       "5568                 Will ü b going to esplanade fr home?\n",
       "5569    Pity, * was in mood for that. So...any other s...\n",
       "5570    The guy did some bitching but I acted like i'd...\n",
       "5571                           Rofl. Its true to its name\n",
       "Name: msg, Length: 5572, dtype: object>"
      ]
     },
     "execution_count": 4,
     "metadata": {},
     "output_type": "execute_result"
    }
   ],
   "source": [
    "sms.msg.unique"
   ]
  },
  {
   "cell_type": "markdown",
   "metadata": {},
   "source": [
    "Looks like our text samples are all unique. Good to go onto text processing!  \n",
    "  \n",
    "## Getting our Words\n",
    "  \n",
    "In order to analyze the words in each text message, we need a way to extract them. It's always good to use old code when appropriate, so we can go back to [project 1](https://github.com/cis678-w20/project1-carrasq/tree/master/project_1) and use `get_words` and `clean_text`. We will need to modify the code to handle single strings as opposed to reading a file."
   ]
  },
  {
   "cell_type": "code",
   "execution_count": 5,
   "metadata": {},
   "outputs": [],
   "source": [
    "def get_words(text):\n",
    "    import re\n",
    "    total_words = [m.string[m.start():m.end()] for m in re.finditer(\"\\w+(\\s|\\.|!|\\?|,|:|;|\\\"|\\'|\\)|$)\", text)]\n",
    "    return total_words\n",
    "\n",
    "def clean_text(words):\n",
    "    import re\n",
    "    # remove leading punctuation and capital letters for visualizations\n",
    "    cleaned = []\n",
    "    for word in words:\n",
    "        word = re.sub(\"\\s|\\.|!|\\?|,|:|;|\\\"|\\'|\\)|$\", \"\", word)\n",
    "        cleaned.append(word.lower())\n",
    "    return cleaned"
   ]
  },
  {
   "cell_type": "code",
   "execution_count": 6,
   "metadata": {},
   "outputs": [
    {
     "name": "stdout",
     "output_type": "stream",
     "text": [
      "Go until jurong point, crazy.. Available only in bugis n great world la e buffet... Cine there got amore wat...\n"
     ]
    },
    {
     "data": {
      "text/plain": [
       "['Go ',\n",
       " 'until ',\n",
       " 'jurong ',\n",
       " 'point,',\n",
       " 'crazy.',\n",
       " 'Available ',\n",
       " 'only ',\n",
       " 'in ',\n",
       " 'bugis ',\n",
       " 'n ',\n",
       " 'great ',\n",
       " 'world ',\n",
       " 'la ',\n",
       " 'e ',\n",
       " 'buffet.',\n",
       " 'Cine ',\n",
       " 'there ',\n",
       " 'got ',\n",
       " 'amore ',\n",
       " 'wat.']"
      ]
     },
     "execution_count": 6,
     "metadata": {},
     "output_type": "execute_result"
    }
   ],
   "source": [
    "print(sms.msg[0])\n",
    "get_words(sms.msg[0])"
   ]
  },
  {
   "cell_type": "markdown",
   "metadata": {},
   "source": [
    "We can build our full vocabulary by looping through all of the text messages and combining the lists into a super list. After cleaning, we will have a full collection of words to support our naive bayes classifier."
   ]
  },
  {
   "cell_type": "code",
   "execution_count": 17,
   "metadata": {},
   "outputs": [],
   "source": [
    "full_vocab = []\n",
    "for msg in sms.msg:\n",
    "    full_vocab = full_vocab + get_words(msg)"
   ]
  },
  {
   "cell_type": "code",
   "execution_count": 18,
   "metadata": {},
   "outputs": [
    {
     "data": {
      "text/plain": [
       "['go', 'until', 'jurong', 'point', 'crazy']"
      ]
     },
     "execution_count": 18,
     "metadata": {},
     "output_type": "execute_result"
    }
   ],
   "source": [
    "clean_text(full_vocab)[0:5]"
   ]
  },
  {
   "cell_type": "code",
   "execution_count": 19,
   "metadata": {},
   "outputs": [],
   "source": [
    "vocab_clean = clean_text(full_vocab)\n",
    "\n",
    "# remove duplicates\n",
    "vocab_clean = list(set(vocab_clean))"
   ]
  },
  {
   "cell_type": "markdown",
   "metadata": {},
   "source": [
    "## Training\n",
    "  \n",
    "Before we calculate probabilities, we need to split the data into a training and testing set. We can use a random number generator to assign the groups. To make sure the training and test group have similar ratios of `spam` to `ham` as the whole population, we will use the random generator on each group separately."
   ]
  },
  {
   "cell_type": "code",
   "execution_count": 11,
   "metadata": {},
   "outputs": [
    {
     "name": "stdout",
     "output_type": "stream",
     "text": [
      "Training Set has 80.1% of the data.\n",
      "Test Set has 19.9% of the data.\n"
     ]
    },
    {
     "data": {
      "text/plain": [
       "<matplotlib.axes._subplots.AxesSubplot at 0x1bce3ebb548>"
      ]
     },
     "execution_count": 11,
     "metadata": {},
     "output_type": "execute_result"
    },
    {
     "data": {
      "image/png": "[encoded data removed]",
      "text/plain": [
       "<Figure size 432x288 with 1 Axes>"
      ]
     },
     "metadata": {
      "needs_background": "light"
     },
     "output_type": "display_data"
    },
    {
     "data": {
      "image/png": "[encoded data removed]",
      "text/plain": [
       "<Figure size 432x288 with 1 Axes>"
      ]
     },
     "metadata": {
      "needs_background": "light"
     },
     "output_type": "display_data"
    },
    {
     "data": {
      "image/png": "[encoded data removed]",
      "text/plain": [
       "<Figure size 432x288 with 1 Axes>"
      ]
     },
     "metadata": {
      "needs_background": "light"
     },
     "output_type": "display_data"
    }
   ],
   "source": [
    "import numpy as np\n",
    "import matplotlib.pyplot as plt\n",
    "\n",
    "# set seed for reproducibility\n",
    "np.random.seed(42)\n",
    "\n",
    "# split out to build properly distributed training / test sets\n",
    "spam = sms[sms.flag == 'spam'].copy()\n",
    "ham = sms[sms.flag == 'ham'].copy()\n",
    "\n",
    "spam['random'] = np.random.uniform(0, 1, spam.shape[0])\n",
    "ham['random'] = np.random.uniform(0, 1, ham.shape[0])\n",
    "\n",
    "training = pd.concat([spam.loc[spam.random < 0.8], ham.loc[ham.random < 0.8]]).drop(['random'], axis = 1)\n",
    "test = pd.concat([spam.loc[spam.random >= 0.8], ham.loc[ham.random >= 0.8]]).drop(['random'], axis = 1)\n",
    "\n",
    "print(\"Training Set has %3.1f%% of the data.\" % (100*len(training)/len(sms)))\n",
    "print(\"Test Set has %3.1f%% of the data.\" % (100*len(test)/len(sms)))\n",
    "\n",
    "training.groupby('flag').count().plot(kind = 'bar')\n",
    "test.groupby('flag').count().plot(kind = 'bar')\n",
    "sms.groupby('flag').count().plot(kind = 'bar')"
   ]
  },
  {
   "cell_type": "markdown",
   "metadata": {},
   "source": [
    "We can build a function that will calculate the various metrics needed for the classifier. For a class $c_j$, we want \n",
    "\n",
    "* the number of training messages in that class, $msgs_j$\n",
    "* the probability estimate for a particular class,  \n",
    "$P(c_j) = \\frac{msgs_j}{msgs_{total}}$ \n",
    "* the total word bank from that class, $text_j$\n",
    "* the number of total word tokens in $text_j$, $n$\n",
    "\n",
    "From this, we can build out probabilities for every word $w_k$ in `full_vocab` given a specific class. For each we want\n",
    "\n",
    "* the number of times work $w_k$ appears in $text_j$, $n_k$\n",
    "* the estimate of the word occurance for a particular message type,  \n",
    "$P(w_k | c_j) = \\frac{n_k + 1}{n + |Vocabulary|}$\n",
    "  \n",
    "The added components in the probability estimate are a smoothing technique to handle any situations where a word in the test set was not found during training. Without this intervention, any message with a new word would yield a 0 probability.  \n",
    "  \n",
    "To count the members of a class, we can group the given table and build a dictionary. The below is a little more robust than needed, but it will be good to make this function more generalizeable. "
   ]
  },
  {
   "cell_type": "code",
   "execution_count": 57,
   "metadata": {},
   "outputs": [
    {
     "data": {
      "text/plain": [
       "{'ham': 3872, 'spam': 592}"
      ]
     },
     "execution_count": 57,
     "metadata": {},
     "output_type": "execute_result"
    }
   ],
   "source": [
    "def count_classes(df, col):\n",
    "    counts = df.groupby(col).count()\n",
    "    counts_dict = {}\n",
    "    \n",
    "    for i in counts.index:\n",
    "        counts_dict.update({i : counts.loc[i][0]})\n",
    "    \n",
    "    return counts_dict\n",
    "        \n",
    "count_classes(training, 'flag')"
   ]
  },
  {
   "cell_type": "markdown",
   "metadata": {},
   "source": [
    "To get probability estimates, we can build on the `count_classes` function to also return percent of the total."
   ]
  },
  {
   "cell_type": "code",
   "execution_count": 66,
   "metadata": {},
   "outputs": [],
   "source": [
    "def count_classes(df, col):\n",
    "    counts = df.groupby(col).count()\n",
    "    counts_dict = {}\n",
    "    # added total counter and probability dictionary\n",
    "    prob_dict = {}\n",
    "    total = 0\n",
    "    \n",
    "    for i in counts.index:\n",
    "        counts_dict.update({i : counts.loc[i][0]})\n",
    "        total = total + counts.loc[i][0]\n",
    "    \n",
    "    for i in counts.index:\n",
    "        prob_dict.update({i : counts.loc[i][0] / total})\n",
    "        \n",
    "    return (counts_dict, prob_dict)\n",
    "        \n",
    "class_counts, class_probs = count_classes(training, 'flag')"
   ]
  },
  {
   "cell_type": "markdown",
   "metadata": {},
   "source": [
    "To build the word bank, we use a modified version of the code used to build the full vocabulary. Specifically, we will do everything but remove the duplicates. We want to see *how often* a word appears in each class."
   ]
  },
  {
   "cell_type": "code",
   "execution_count": 74,
   "metadata": {},
   "outputs": [
    {
     "data": {
      "text/plain": [
       "{'ham': 56389, 'spam': 14428}"
      ]
     },
     "execution_count": 74,
     "metadata": {},
     "output_type": "execute_result"
    }
   ],
   "source": [
    "def make_wordbank(text):\n",
    "    full_wordbank = []\n",
    "    for msg in text:\n",
    "        full_wordbank = full_wordbank + get_words(msg)\n",
    "    \n",
    "    return clean_text(full_wordbank)\n",
    "\n",
    "class_wordbanks = {}\n",
    "class_wordbanks_counts = {}\n",
    "for group in ['ham', 'spam']:\n",
    "    class_wordbanks.update({group : make_wordbank(training[training.flag == group].msg)})\n",
    "    class_wordbanks_counts.update({group : len(class_wordbanks[group])})"
   ]
  },
  {
   "cell_type": "markdown",
   "metadata": {},
   "source": [
    "Going through our distinct total vocabulary, `vocab_clean`, we can build an embedded dictionary to show the word's prominence in each class. An embedded dictionary packages each word's probabilities for each class, allowing us to access both after a single search. This gives the dictionary a `json`-like feel."
   ]
  },
  {
   "cell_type": "code",
   "execution_count": 86,
   "metadata": {},
   "outputs": [],
   "source": [
    "vocab_classed = {}\n",
    "for word in vocab_clean:\n",
    "    vocab_classed.update({word : {'ham' : class_wordbanks['ham'].count(word),\n",
    "                                 'spam': class_wordbanks['spam'].count(word)}})"
   ]
  },
  {
   "cell_type": "code",
   "execution_count": 85,
   "metadata": {},
   "outputs": [
    {
     "data": {
      "text/plain": [
       "{'82324': {'ham': 0, 'spam': 1},\n",
       " 'misplaced': {'ham': 0, 'spam': 0},\n",
       " 'new': {'ham': 51, 'spam': 52},\n",
       " 'onwords': {'ham': 1, 'spam': 0},\n",
       " 'cos': {'ham': 50, 'spam': 0}}"
      ]
     },
     "execution_count": 85,
     "metadata": {},
     "output_type": "execute_result"
    }
   ],
   "source": [
    "# print first 5 dictionary entries\n",
    "{k: vocab_classed[k] for k in list(vocab_classed)[:5]}"
   ]
  },
  {
   "cell_type": "markdown",
   "metadata": {},
   "source": [
    "Using a similar technique to the above embedded dictionary, we can build out a lookup for the conditional probabilities of a work given each class. Multiplying many probabilities together yields a smaller and smaller output with more precision needed each time to differentiate 2 words. In order to not bring in an arbitrary precision library, we can instead take the **log of each probability** and add them together to find the more likely class. "
   ]
  },
  {
   "cell_type": "code",
   "execution_count": 99,
   "metadata": {},
   "outputs": [],
   "source": [
    "import math\n",
    "vocab_probs = {}\n",
    "ham_length = len(class_wordbanks['ham'])\n",
    "spam_length = len(class_wordbanks['spam'])\n",
    "vocab_length = len(vocab_clean)\n",
    "\n",
    "for word in vocab_clean:\n",
    "    vocab_probs.update({word : {'ham' : math.log((vocab_classed[word]['ham'] + 1)/ (ham_length + vocab_length)),\n",
    "                                'spam': math.log((vocab_classed[word]['spam'] + 1)/ (spam_length + vocab_length))}})"
   ]
  },
  {
   "cell_type": "code",
   "execution_count": 101,
   "metadata": {},
   "outputs": [
    {
     "data": {
      "text/plain": [
       "{'82324': {'ham': -11.082157933374816, 'spam': -9.351839934249883},\n",
       " 'misplaced': {'ham': -11.082157933374816, 'spam': -10.044987114809828},\n",
       " 'new': {'ham': -7.130914214793389, 'spam': -6.074695201257706},\n",
       " 'onwords': {'ham': -10.38901075281487, 'spam': -10.044987114809828},\n",
       " 'cos': {'ham': -7.150332300650491, 'spam': -10.044987114809828}}"
      ]
     },
     "execution_count": 101,
     "metadata": {},
     "output_type": "execute_result"
    }
   ],
   "source": [
    "# print first 5 dictionary entries\n",
    "{k: vocab_probs[k] for k in list(vocab_probs)[:5]}"
   ]
  },
  {
   "cell_type": "markdown",
   "metadata": {},
   "source": [
    "## Testing\n",
    "\n",
    "Now we can take this learning and apply it to a new, never before seen data set. We set aside ~20% of our data for this purpose. A Naive Bayes classifier calculates the following for a given message:\n",
    "  \n",
    "$$\n",
    "    C_{NB} = max_{C}(P(c_j) \\Pi (P(a_i | c_j))\n",
    "$$\n",
    "\n",
    "Using the log transformation we implemented, we are interested in this iteration:\n",
    "\n",
    "$$\n",
    "    C_{NB} = max_{C}(log(P(c_j)) +  \\sum_{i} log(P(a_i | c_j)))\n",
    "$$\n",
    "\n",
    "Where $a_i$ is the ith word in a message."
   ]
  },
  {
   "cell_type": "code",
   "execution_count": 152,
   "metadata": {},
   "outputs": [],
   "source": [
    "def classify_nb(text):\n",
    "    import math\n",
    "    ham_prob = math.log(class_probs['ham'])\n",
    "    spam_prob = math.log(class_probs['spam'])\n",
    "    \n",
    "    for word in text:\n",
    "        found_word = vocab_probs[word]\n",
    "        ham_prob = ham_prob + found_word['ham']\n",
    "        spam_prob = spam_prob + found_word['spam']\n",
    "    \n",
    "    if ham_prob > spam_prob:\n",
    "        return 'ham'\n",
    "    else:\n",
    "        return 'spam'"
   ]
  },
  {
   "cell_type": "code",
   "execution_count": 153,
   "metadata": {},
   "outputs": [],
   "source": [
    "test['pred'] = test.msg.apply(get_words).apply(clean_text).apply(classify_nb)"
   ]
  },
  {
   "cell_type": "markdown",
   "metadata": {},
   "source": [
    "Because `spam` is much less common than `ham`, it is important to calculate more than just the simple accuracy estimate of $\\frac{num_{correct}}{num_{total}}$. We need a confusion matrix to see how well we did within each class."
   ]
  },
  {
   "cell_type": "code",
   "execution_count": 154,
   "metadata": {},
   "outputs": [
    {
     "data": {
      "text/html": [
       "<div>\n",
       "<style scoped>\n",
       "    .dataframe tbody tr th:only-of-type {\n",
       "        vertical-align: middle;\n",
       "    }\n",
       "\n",
       "    .dataframe tbody tr th {\n",
       "        vertical-align: top;\n",
       "    }\n",
       "\n",
       "    .dataframe thead tr th {\n",
       "        text-align: left;\n",
       "    }\n",
       "\n",
       "    .dataframe thead tr:last-of-type th {\n",
       "        text-align: right;\n",
       "    }\n",
       "</style>\n",
       "<table border=\"1\" class=\"dataframe\">\n",
       "  <thead>\n",
       "    <tr>\n",
       "      <th></th>\n",
       "      <th colspan=\"2\" halign=\"left\">msg</th>\n",
       "    </tr>\n",
       "    <tr>\n",
       "      <th>pred</th>\n",
       "      <th>ham</th>\n",
       "      <th>spam</th>\n",
       "    </tr>\n",
       "    <tr>\n",
       "      <th>flag</th>\n",
       "      <th></th>\n",
       "      <th></th>\n",
       "    </tr>\n",
       "  </thead>\n",
       "  <tbody>\n",
       "    <tr>\n",
       "      <td>ham</td>\n",
       "      <td>940</td>\n",
       "      <td>13</td>\n",
       "    </tr>\n",
       "    <tr>\n",
       "      <td>spam</td>\n",
       "      <td>13</td>\n",
       "      <td>142</td>\n",
       "    </tr>\n",
       "  </tbody>\n",
       "</table>\n",
       "</div>"
      ],
      "text/plain": [
       "      msg     \n",
       "pred  ham spam\n",
       "flag          \n",
       "ham   940   13\n",
       "spam   13  142"
      ]
     },
     "execution_count": 154,
     "metadata": {},
     "output_type": "execute_result"
    }
   ],
   "source": [
    "test.groupby(['flag', 'pred']).count().unstack()"
   ]
  },
  {
   "cell_type": "markdown",
   "metadata": {},
   "source": [
    "Now that we have visibility to the confusion matrix, we can calculate our various evaluation metrics."
   ]
  },
  {
   "cell_type": "code",
   "execution_count": 148,
   "metadata": {},
   "outputs": [],
   "source": [
    "TP = 142\n",
    "TN = 940\n",
    "FP = 13\n",
    "FN = 13"
   ]
  },
  {
   "cell_type": "markdown",
   "metadata": {},
   "source": [
    "## Evaluate\n",
    "  \n",
    "It is important to note that the evaluation criteria are with respect to what we as researchers label as **positive** or **negative**. Is a true positive a correctly labeled `ham` message or is it `spam`? Based on how Python printed the confusion matrix, it looks like `ham` is the **true** label. With this in mind, it is better to think of your calculations in sentence form to get clearer insights.\n",
    "  \n",
    "As a baseline, we need to know the rate of `spam` and `ham` and see how a **super** naive model of \"everything is ham\" would do.  "
   ]
  },
  {
   "cell_type": "code",
   "execution_count": 155,
   "metadata": {},
   "outputs": [
    {
     "data": {
      "text/plain": [
       "{'ham': 0.8673835125448028, 'spam': 0.13261648745519714}"
      ]
     },
     "execution_count": 155,
     "metadata": {},
     "output_type": "execute_result"
    }
   ],
   "source": [
    "class_probs"
   ]
  },
  {
   "cell_type": "markdown",
   "metadata": {},
   "source": [
    "We'd be correct about 86% correct with the training set."
   ]
  },
  {
   "cell_type": "markdown",
   "metadata": {},
   "source": [
    "*How many messages were correctly labeled?*"
   ]
  },
  {
   "cell_type": "code",
   "execution_count": 147,
   "metadata": {},
   "outputs": [
    {
     "data": {
      "text/plain": [
       "0.9765342960288809"
      ]
     },
     "execution_count": 147,
     "metadata": {},
     "output_type": "execute_result"
    }
   ],
   "source": [
    "(TP + TN) / (TP + TN + FP + FN)"
   ]
  },
  {
   "cell_type": "markdown",
   "metadata": {},
   "source": [
    "*Of the `spam` messages, how many were correctly classified? (sensitivity)*"
   ]
  },
  {
   "cell_type": "code",
   "execution_count": 149,
   "metadata": {},
   "outputs": [
    {
     "data": {
      "text/plain": [
       "0.9161290322580645"
      ]
     },
     "execution_count": 149,
     "metadata": {},
     "output_type": "execute_result"
    }
   ],
   "source": [
    "TP / (TP + FN)"
   ]
  },
  {
   "cell_type": "markdown",
   "metadata": {},
   "source": [
    "*Of the messages marked as `spam`, how many actually were `spam`?  (precision)*"
   ]
  },
  {
   "cell_type": "code",
   "execution_count": 150,
   "metadata": {},
   "outputs": [
    {
     "data": {
      "text/plain": [
       "0.9161290322580645"
      ]
     },
     "execution_count": 150,
     "metadata": {},
     "output_type": "execute_result"
    }
   ],
   "source": [
    "TP / (TP + FP)"
   ]
  },
  {
   "cell_type": "markdown",
   "metadata": {},
   "source": [
    "*Of the `ham` messages, how many were correctly classified? (specificity)*"
   ]
  },
  {
   "cell_type": "code",
   "execution_count": 151,
   "metadata": {},
   "outputs": [
    {
     "data": {
      "text/plain": [
       "0.9863588667366212"
      ]
     },
     "execution_count": 151,
     "metadata": {},
     "output_type": "execute_result"
    }
   ],
   "source": [
    "TN / (TN + FP)"
   ]
  },
  {
   "cell_type": "markdown",
   "metadata": {},
   "source": [
    "## Discussion\n",
    "  \n",
    "Overall, the classifier performed pretty well, with a precision and sensitivity for `spam` at close to 92%. The preprocessing steps likely had a strong influence on the performance. Removing variations in capitalization with the `.lower()` method helps to concentrate signal. Similarly, making sure there were similar proportions of `spam` in both training and test allowed the algorithm to learn in a realistic setting.  \n",
    "  \n",
    "We can explore the messages we incorrectly labeled. We can maybe find some insights that way."
   ]
  },
  {
   "cell_type": "code",
   "execution_count": 159,
   "metadata": {},
   "outputs": [
    {
     "data": {
      "text/html": [
       "<div>\n",
       "<style scoped>\n",
       "    .dataframe tbody tr th:only-of-type {\n",
       "        vertical-align: middle;\n",
       "    }\n",
       "\n",
       "    .dataframe tbody tr th {\n",
       "        vertical-align: top;\n",
       "    }\n",
       "\n",
       "    .dataframe thead th {\n",
       "        text-align: right;\n",
       "    }\n",
       "</style>\n",
       "<table border=\"1\" class=\"dataframe\">\n",
       "  <thead>\n",
       "    <tr style=\"text-align: right;\">\n",
       "      <th></th>\n",
       "      <th>flag</th>\n",
       "      <th>msg</th>\n",
       "      <th>pred</th>\n",
       "    </tr>\n",
       "  </thead>\n",
       "  <tbody>\n",
       "    <tr>\n",
       "      <td>5</td>\n",
       "      <td>spam</td>\n",
       "      <td>FreeMsg Hey there darling it's been 3 week's n...</td>\n",
       "      <td>ham</td>\n",
       "    </tr>\n",
       "    <tr>\n",
       "      <td>869</td>\n",
       "      <td>spam</td>\n",
       "      <td>Hello. We need some posh birds and chaps to us...</td>\n",
       "      <td>ham</td>\n",
       "    </tr>\n",
       "    <tr>\n",
       "      <td>1875</td>\n",
       "      <td>spam</td>\n",
       "      <td>Would you like to see my XXX pics they are so ...</td>\n",
       "      <td>ham</td>\n",
       "    </tr>\n",
       "    <tr>\n",
       "      <td>2413</td>\n",
       "      <td>spam</td>\n",
       "      <td>I don't know u and u don't know me. Send CHAT ...</td>\n",
       "      <td>ham</td>\n",
       "    </tr>\n",
       "    <tr>\n",
       "      <td>2742</td>\n",
       "      <td>spam</td>\n",
       "      <td>I don't know u and u don't know me. Send CHAT ...</td>\n",
       "      <td>ham</td>\n",
       "    </tr>\n",
       "    <tr>\n",
       "      <td>2821</td>\n",
       "      <td>spam</td>\n",
       "      <td>INTERFLORA - It's not too late to order Inter...</td>\n",
       "      <td>ham</td>\n",
       "    </tr>\n",
       "    <tr>\n",
       "      <td>3360</td>\n",
       "      <td>spam</td>\n",
       "      <td>Sorry I missed your call let's talk when you h...</td>\n",
       "      <td>ham</td>\n",
       "    </tr>\n",
       "    <tr>\n",
       "      <td>3419</td>\n",
       "      <td>spam</td>\n",
       "      <td>LIFE has never been this much fun and great un...</td>\n",
       "      <td>ham</td>\n",
       "    </tr>\n",
       "    <tr>\n",
       "      <td>3530</td>\n",
       "      <td>spam</td>\n",
       "      <td>Xmas &amp; New Years Eve tickets are now on sale f...</td>\n",
       "      <td>ham</td>\n",
       "    </tr>\n",
       "    <tr>\n",
       "      <td>3864</td>\n",
       "      <td>spam</td>\n",
       "      <td>Oh my god! I've found your number again! I'm s...</td>\n",
       "      <td>ham</td>\n",
       "    </tr>\n",
       "    <tr>\n",
       "      <td>3991</td>\n",
       "      <td>spam</td>\n",
       "      <td>(Bank of Granite issues Strong-Buy) EXPLOSIVE ...</td>\n",
       "      <td>ham</td>\n",
       "    </tr>\n",
       "    <tr>\n",
       "      <td>4676</td>\n",
       "      <td>spam</td>\n",
       "      <td>Hi babe its Chloe, how r u? I was smashed on s...</td>\n",
       "      <td>ham</td>\n",
       "    </tr>\n",
       "    <tr>\n",
       "      <td>5037</td>\n",
       "      <td>spam</td>\n",
       "      <td>You won't believe it but it's true. It's Incre...</td>\n",
       "      <td>ham</td>\n",
       "    </tr>\n",
       "    <tr>\n",
       "      <td>574</td>\n",
       "      <td>ham</td>\n",
       "      <td>Waiting for your call.</td>\n",
       "      <td>spam</td>\n",
       "    </tr>\n",
       "    <tr>\n",
       "      <td>893</td>\n",
       "      <td>ham</td>\n",
       "      <td>Nutter. Cutter. Ctter. Cttergg. Cttargg. Ctarg...</td>\n",
       "      <td>spam</td>\n",
       "    </tr>\n",
       "    <tr>\n",
       "      <td>989</td>\n",
       "      <td>ham</td>\n",
       "      <td>Yun ah.the ubi one say if ü wan call by tomorr...</td>\n",
       "      <td>spam</td>\n",
       "    </tr>\n",
       "    <tr>\n",
       "      <td>1082</td>\n",
       "      <td>ham</td>\n",
       "      <td>Can u get pic msgs to your phone?</td>\n",
       "      <td>spam</td>\n",
       "    </tr>\n",
       "    <tr>\n",
       "      <td>2196</td>\n",
       "      <td>ham</td>\n",
       "      <td>V-aluable. A-ffectionate. L-oveable. E-ternal....</td>\n",
       "      <td>spam</td>\n",
       "    </tr>\n",
       "    <tr>\n",
       "      <td>2236</td>\n",
       "      <td>ham</td>\n",
       "      <td>Si.como no?!listened2the plaid album-quite gd&amp;...</td>\n",
       "      <td>spam</td>\n",
       "    </tr>\n",
       "    <tr>\n",
       "      <td>2389</td>\n",
       "      <td>ham</td>\n",
       "      <td>wiskey Brandy Rum Gin Beer Vodka Scotch Shampa...</td>\n",
       "      <td>spam</td>\n",
       "    </tr>\n",
       "    <tr>\n",
       "      <td>3306</td>\n",
       "      <td>ham</td>\n",
       "      <td>Ee msg na poortiyagi odalebeku: Hanumanji 7 na...</td>\n",
       "      <td>spam</td>\n",
       "    </tr>\n",
       "    <tr>\n",
       "      <td>3415</td>\n",
       "      <td>ham</td>\n",
       "      <td>No pic. Please re-send.</td>\n",
       "      <td>spam</td>\n",
       "    </tr>\n",
       "    <tr>\n",
       "      <td>3506</td>\n",
       "      <td>ham</td>\n",
       "      <td>life alle mone,eppolum oru pole allalo</td>\n",
       "      <td>spam</td>\n",
       "    </tr>\n",
       "    <tr>\n",
       "      <td>3728</td>\n",
       "      <td>ham</td>\n",
       "      <td>Aldrine, rakhesh ex RTM here.pls call.urgent.</td>\n",
       "      <td>spam</td>\n",
       "    </tr>\n",
       "    <tr>\n",
       "      <td>4703</td>\n",
       "      <td>ham</td>\n",
       "      <td>Anytime...</td>\n",
       "      <td>spam</td>\n",
       "    </tr>\n",
       "    <tr>\n",
       "      <td>5046</td>\n",
       "      <td>ham</td>\n",
       "      <td>We have sent JD for Customer Service cum Accou...</td>\n",
       "      <td>spam</td>\n",
       "    </tr>\n",
       "  </tbody>\n",
       "</table>\n",
       "</div>"
      ],
      "text/plain": [
       "      flag                                                msg  pred\n",
       "5     spam  FreeMsg Hey there darling it's been 3 week's n...   ham\n",
       "869   spam  Hello. We need some posh birds and chaps to us...   ham\n",
       "1875  spam  Would you like to see my XXX pics they are so ...   ham\n",
       "2413  spam  I don't know u and u don't know me. Send CHAT ...   ham\n",
       "2742  spam  I don't know u and u don't know me. Send CHAT ...   ham\n",
       "2821  spam  INTERFLORA - It's not too late to order Inter...   ham\n",
       "3360  spam  Sorry I missed your call let's talk when you h...   ham\n",
       "3419  spam  LIFE has never been this much fun and great un...   ham\n",
       "3530  spam  Xmas & New Years Eve tickets are now on sale f...   ham\n",
       "3864  spam  Oh my god! I've found your number again! I'm s...   ham\n",
       "3991  spam  (Bank of Granite issues Strong-Buy) EXPLOSIVE ...   ham\n",
       "4676  spam  Hi babe its Chloe, how r u? I was smashed on s...   ham\n",
       "5037  spam  You won't believe it but it's true. It's Incre...   ham\n",
       "574    ham                             Waiting for your call.  spam\n",
       "893    ham  Nutter. Cutter. Ctter. Cttergg. Cttargg. Ctarg...  spam\n",
       "989    ham  Yun ah.the ubi one say if ü wan call by tomorr...  spam\n",
       "1082   ham                  Can u get pic msgs to your phone?  spam\n",
       "2196   ham  V-aluable. A-ffectionate. L-oveable. E-ternal....  spam\n",
       "2236   ham  Si.como no?!listened2the plaid album-quite gd&...  spam\n",
       "2389   ham  wiskey Brandy Rum Gin Beer Vodka Scotch Shampa...  spam\n",
       "3306   ham  Ee msg na poortiyagi odalebeku: Hanumanji 7 na...  spam\n",
       "3415   ham                            No pic. Please re-send.  spam\n",
       "3506   ham             life alle mone,eppolum oru pole allalo  spam\n",
       "3728   ham      Aldrine, rakhesh ex RTM here.pls call.urgent.  spam\n",
       "4703   ham                                         Anytime...  spam\n",
       "5046   ham  We have sent JD for Customer Service cum Accou...  spam"
      ]
     },
     "execution_count": 159,
     "metadata": {},
     "output_type": "execute_result"
    }
   ],
   "source": [
    "test[test.flag != test.pred]"
   ]
  }
 ],
 "metadata": {
  "kernelspec": {
   "display_name": "Python 3",
   "language": "python",
   "name": "python3"
  },
  "language_info": {
   "codemirror_mode": {
    "name": "ipython",
    "version": 3
   },
   "file_extension": ".py",
   "mimetype": "text/x-python",
   "name": "python",
   "nbconvert_exporter": "python",
   "pygments_lexer": "ipython3",
   "version": "3.7.4"
  }
 },
 "nbformat": 4,
 "nbformat_minor": 2
}
